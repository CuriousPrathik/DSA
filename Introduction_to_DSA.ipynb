{
 "cells": [
  {
   "attachments": {},
   "cell_type": "markdown",
   "metadata": {},
   "source": [
    "# Introduction to DSA"
   ]
  },
  {
   "attachments": {},
   "cell_type": "markdown",
   "metadata": {},
   "source": [
    "\n",
    "    ---Data Structure and Algorithms---\n",
    "* The Aim of DSA is to use different structures such that we can retrive, store, etc, data efficiently."
   ]
  },
  {
   "attachments": {},
   "cell_type": "markdown",
   "metadata": {},
   "source": [
    "\n",
    "    ---Data Structures---\n",
    "    \n",
    "**Linear**\n",
    "* Array\n",
    "* Stack\n",
    "* Linked List, etc.\n",
    "        \n",
    "**Non-Linear**\n",
    "* Tree\n",
    "* Graph, etc."
   ]
  },
  {
   "attachments": {},
   "cell_type": "markdown",
   "metadata": {},
   "source": [
    "\n",
    "    ---Algorithms---\n",
    "* It is the sequence of finite steps / set of rules to solve a particular problem.\n",
    "* It is the logic\n",
    "\n",
    "**Types of Algorithms**\n",
    "* Pseudocode\n",
    "* Flow Chart\n",
    "* Programming Languages\n",
    "\n",
    "**Properties**\n",
    "* Produce altleast 1 output\n",
    "* Terminate after finite time\n",
    "* independent of any programming language\n",
    "* Algorithm/code should be unambiguous i.e Deterministic/output should always remain same."
   ]
  },
  {
   "attachments": {},
   "cell_type": "markdown",
   "metadata": {},
   "source": [
    "\n",
    "    ---Steps to Construct an Algorithm---\n",
    "\n",
    "- **Problem Statement**\n",
    "\n",
    "    Look for constraints, parameters, test cases.\n",
    "- **Algorithm Design**\n",
    "\n",
    "    Choose the best algo method from diff algo techniques.\n",
    "- **Draw Flowchart or Pseudocode**\n",
    "- **Test the Logic**\n",
    "- **Implement using Programming Language**\n",
    "- **Analysis**\n",
    "    Use T&S complexity to come up with efficient solutions."
   ]
  }
 ],
 "metadata": {
  "language_info": {
   "name": "python"
  },
  "orig_nbformat": 4
 },
 "nbformat": 4,
 "nbformat_minor": 2
}
