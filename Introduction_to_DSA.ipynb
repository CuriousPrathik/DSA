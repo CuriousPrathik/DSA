{
 "cells": [
  {
   "attachments": {},
   "cell_type": "markdown",
   "metadata": {},
   "source": [
    "# Introduction to DSA"
   ]
  },
  {
   "attachments": {},
   "cell_type": "markdown",
   "metadata": {},
   "source": [
    "\n",
    "    ---Data Structure and Algorithms---\n",
    "* The Aim of DSA is to use different structures such that we can retrive, store, etc, data efficiently."
   ]
  },
  {
   "attachments": {},
   "cell_type": "markdown",
   "metadata": {},
   "source": [
    "\n",
    "    ---Data Structures---\n",
    "    \n",
    "**Linear**\n",
    "* Array\n",
    "* Stack\n",
    "* Linked List, etc.\n",
    "        \n",
    "**Non-Linear**\n",
    "* Tree\n",
    "* Graph, etc."
   ]
  },
  {
   "attachments": {},
   "cell_type": "markdown",
   "metadata": {},
   "source": [
    "\n",
    "    ---Algorithms---\n",
    "* It is the sequence of finite steps / set of rules to solve a particular problem.\n",
    "* It is the logic\n",
    "\n",
    "**Properties**\n",
    "* Produce altleast 1 output\n",
    "* Terminate after finite time\n",
    "* independent of any programming language\n",
    "* Algorithm/code should be unambiguous i.e Deterministic/output should always remain same."
   ]
  }
 ],
 "metadata": {
  "language_info": {
   "name": "python"
  },
  "orig_nbformat": 4
 },
 "nbformat": 4,
 "nbformat_minor": 2
}
