{
 "cells": [
  {
   "attachments": {},
   "cell_type": "markdown",
   "metadata": {},
   "source": [
    "# DSA ROADMAP"
   ]
  },
  {
   "attachments": {},
   "cell_type": "markdown",
   "metadata": {},
   "source": [
    "    \n",
    "    ---In DSA we will learn---\n",
    "* Aprior analysis, which includes Time and space complexity, etc\n",
    "* Arrays\n",
    "* Recurssion\n",
    "* Sorting Algo\n",
    "* Searching Algo\n",
    "* Linked List\n",
    "* Stack & Queue\n",
    "* Tree\n",
    "* Heap"
   ]
  },
  {
   "attachments": {},
   "cell_type": "markdown",
   "metadata": {},
   "source": [
    "\n",
    "    ---ADV---\n",
    "* Graphs\n",
    "* Dynamic Programming (adv Recurssion)\n",
    "* Circular Queues\n",
    "* Skip List"
   ]
  },
  {
   "attachments": {},
   "cell_type": "markdown",
   "metadata": {},
   "source": [
    "\n",
    "    ---Learn when u have more time---\n",
    "* Hashing\n",
    "* Trie\n",
    "* Greedy Algo\n",
    "* Bit Manipulation"
   ]
  }
 ],
 "metadata": {
  "language_info": {
   "name": "python"
  },
  "orig_nbformat": 4
 },
 "nbformat": 4,
 "nbformat_minor": 2
}
