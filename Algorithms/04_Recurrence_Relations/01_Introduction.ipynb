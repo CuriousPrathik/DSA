{
 "cells": [
  {
   "cell_type": "markdown",
   "metadata": {},
   "source": [
    "# Introduction to Recurrence Relations"
   ]
  },
  {
   "cell_type": "markdown",
   "metadata": {},
   "source": [
    "**Recurrence relations is analyzing the T&S complexity of recursive algorithms.**\n",
    "\n",
    "* A function calling itself is **Recursion**."
   ]
  },
  {
   "cell_type": "markdown",
   "metadata": {},
   "source": [
    "**Techniques to analyze a recurrence relation.**\n",
    "\n",
    "**Substitution method:** The substitution method involves making a guess about the solution of the recurrence relation and then using mathematical induction to prove its correctness. This method is often used when the recurrence has a clear pattern that can be guessed.\n",
    "\n",
    "**Recursion tree method:** This method involves visualizing the recursive calls of the algorithm as a tree. Each node in the tree represents a subproblem, and the edges represent the recursive calls. Analyzing the work done at each level of the tree and summing up the contributions allows for deriving the overall time complexity.\n",
    "\n",
    "**Master theorem:** The Master theorem is a powerful tool used to solve recurrence relations that follow a specific form known as divide-and-conquer recurrences. It provides formulas that give the asymptotic time complexity directly based on the properties of the recurrence.\n",
    "\n"
   ]
  }
 ],
 "metadata": {
  "language_info": {
   "name": "python"
  },
  "orig_nbformat": 4
 },
 "nbformat": 4,
 "nbformat_minor": 2
}
