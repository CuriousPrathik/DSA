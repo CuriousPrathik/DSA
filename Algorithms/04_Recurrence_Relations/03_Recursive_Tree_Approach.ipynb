{
 "cells": [
  {
   "cell_type": "markdown",
   "metadata": {},
   "source": [
    "**Usefull when we have more than 1 recursive term in recursive realtions**"
   ]
  },
  {
   "cell_type": "markdown",
   "metadata": {},
   "source": [
    "Each node in the tree represents a term in the sequence, and the edges between nodes represent the recurrence relation.\n",
    "\n",
    "Continue the process recursively until you reach the base case or a level where all terms are known or can be directly computed."
   ]
  }
 ],
 "metadata": {
  "language_info": {
   "name": "python"
  },
  "orig_nbformat": 4
 },
 "nbformat": 4,
 "nbformat_minor": 2
}
