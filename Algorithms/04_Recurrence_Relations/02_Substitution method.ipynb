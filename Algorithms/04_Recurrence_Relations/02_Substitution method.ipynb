{
 "cells": [
  {
   "cell_type": "markdown",
   "metadata": {},
   "source": [
    "# **Substitution Method** "
   ]
  },
  {
   "cell_type": "markdown",
   "metadata": {},
   "source": [
    "**It involves replacing the recurrence relation with an assumed solution and then determining the values of the constants in the solution by substituting it back into the original recurrence relation.**"
   ]
  }
 ],
 "metadata": {
  "language_info": {
   "name": "python"
  },
  "orig_nbformat": 4
 },
 "nbformat": 4,
 "nbformat_minor": 2
}
