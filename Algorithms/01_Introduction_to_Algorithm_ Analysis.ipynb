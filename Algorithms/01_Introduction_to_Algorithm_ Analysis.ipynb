{
 "cells": [
  {
   "attachments": {},
   "cell_type": "markdown",
   "metadata": {},
   "source": [
    "# Introduction to Algorithm Analysis"
   ]
  },
  {
   "attachments": {},
   "cell_type": "markdown",
   "metadata": {},
   "source": [
    "* Analysis is the last part of \"Steps to Construct an Algorithm\"\n",
    "\n",
    "**Analysis is only used when we have more than one solution to a particular problem**"
   ]
  },
  {
   "attachments": {},
   "cell_type": "markdown",
   "metadata": {},
   "source": [
    "\n",
    "    ---Types of Analysis---\n",
    "\n",
    "**Apostiary**\n",
    "\n",
    "* This analysis depends on type of hardware and compiler of language,\n",
    "    We get exact answers.\n",
    "\n",
    "**Apriory**\n",
    "* This analysis is independent of hardware and compiler of language,\n",
    "    We get approximate answers.\n",
    "\n",
    "**We will only learn and use Apriory, we dont have super computers.**"
   ]
  },
  {
   "attachments": {},
   "cell_type": "markdown",
   "metadata": {},
   "source": [
    "    ---Tools for Analysis---\n",
    "\n",
    "**Time Complexity**\n",
    "\n",
    "**Space Complexity**\n",
    "\n",
    "* Instead of numbers, we will use Asymptotic Notations in Time & Space Complexity."
   ]
  }
 ],
 "metadata": {
  "language_info": {
   "name": "python"
  },
  "orig_nbformat": 4
 },
 "nbformat": 4,
 "nbformat_minor": 2
}
