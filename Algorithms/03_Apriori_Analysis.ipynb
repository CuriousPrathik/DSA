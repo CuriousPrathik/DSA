{
 "cells": [
  {
   "attachments": {},
   "cell_type": "markdown",
   "metadata": {},
   "source": [
    "# Apriory Analysis\n",
    "\n",
    "* It is the order of magnitude of a statement i.e no. of times any statement is executing."
   ]
  },
  {
   "cell_type": "markdown",
   "metadata": {},
   "source": [
    "\n",
    "    ---Time & Space Complexity---\n",
    "    \n",
    "**Time complexity** \n",
    "\n",
    "* It refers to how the running time of an algorithm increases as the input size increases. \n",
    "\n",
    "* It helps in understanding how efficient an algorithm is in terms of time.\n",
    "\n",
    "**Space complexity**\n",
    "\n",
    "* It refers to how the memory usage of an algorithm increases with the input size. \n",
    "\n",
    "* It helps in understanding how efficient an algorithm is in terms of space."
   ]
  },
  {
   "attachments": {},
   "cell_type": "markdown",
   "metadata": {},
   "source": [
    "    \n",
    "    ---Example 1---\n",
    "\n",
    "* x = y + z -> this will only run once.\n",
    "\n",
    "* **Hence the order of magnitude for this statement is O(1), we are calculating for Big O.**"
   ]
  },
  {
   "attachments": {},
   "cell_type": "markdown",
   "metadata": {},
   "source": [
    "    ---Example 2---\n",
    "\n",
    "* x = y + z -> this will run once\n",
    "\n",
    "* for i in range(0,n-1):\n",
    "    \n",
    "    x = y + z -> this will run 0 till n-1 i.e n times\n",
    "\n",
    "* **Hence the order of magnitude for this algorithn is O(n+1), but n is very large so we will give approximate i.e O(n)**"
   ]
  },
  {
   "attachments": {},
   "cell_type": "markdown",
   "metadata": {},
   "source": [
    "    ---Example 3---\n",
    "\n",
    "* x = y + z -> this will run once\n",
    "\n",
    "* for j in range(0,n-1): -> this will run n times\n",
    "    \n",
    "        x = y + z \n",
    "\n",
    "* for i in range(0,n-1): -> this will run n times\n",
    "\n",
    "        for j in range(0,n-1): -> this will run 0 till n-1 i.e n times\n",
    "    \n",
    "            x = y + z \n",
    "\n",
    "* **Hence the order of magnitude for this algorithn is O(1+n+n ** 2) but n is very large so we will give approximate and largest i.e O(n ** 2)**"
   ]
  },
  {
   "attachments": {},
   "cell_type": "markdown",
   "metadata": {},
   "source": [
    "    \n",
    "    ---Example 4---\n",
    "\n",
    "* i = n\n",
    "* while i > 1 :\n",
    "    \n",
    "        i = i - 1\n",
    "* if n = 5, loop will run 4 times.\n",
    "* if n = 100, loop will run 99 times.\n",
    "* if n = n, it will be n-1 times.\n",
    "* **Hence the order of magnitude for this algorithm is O(n-1) but after approximation it is O(n)**"
   ]
  },
  {
   "attachments": {},
   "cell_type": "markdown",
   "metadata": {},
   "source": [
    "\n",
    "    ---Example 5---\n",
    "\n",
    "* i = n\n",
    "* while i >= 1 :\n",
    "\n",
    "    i = i - 2\n",
    "* if n = 10, loop will run 5 times.\n",
    "* if n = 100, loop will run 50 times.\n",
    "* if n = n, loop will run n/2 times.\n",
    "* **Hence the order of magnitude for this algorithm is O(n/2), but considering n to be very large after approximation it is O(n)**"
   ]
  },
  {
   "attachments": {},
   "cell_type": "markdown",
   "metadata": {},
   "source": [
    "\n",
    "    ---NOTE---\n",
    "\n",
    "* **Time Complexity is very high in loops**\n",
    "* **If there are no loops in the algorithm, we get constant TC**"
   ]
  },
  {
   "attachments": {},
   "cell_type": "markdown",
   "metadata": {},
   "source": [
    "\n",
    "    ---Example 6---\n",
    "\n",
    "* i = n\n",
    "* while i>2 :\n",
    "\n",
    "        i = i** 1/2\n",
    "* if n = 256, after 1st iteration it will be root of 256 = 16, 2nd iter 16 = 4, 3rd iter 4 = 2, loop terminated.\n",
    "* if n = n, after 1st iter n = n**1/2, 2nd iter n **1/4 and so on untill it is = 2. n ** 1/(2 **K)\n",
    "* n ** 1/(2**k) = 2 -> taking log base 2 on both sides\n",
    "* 1/(2**k) log n = log 2 -> log a **b = b log a\n",
    "* log n = 2 ** k -> taking log base 2 on both sides\n",
    "* log(log n) = k log 2\n",
    "* log(log n) = k -> k is the number if time it will iterate and both logs are base 2\n",
    "* **Hence the order of magnitude for this algorithm is O(log(log n))**"
   ]
  },
  {
   "attachments": {},
   "cell_type": "markdown",
   "metadata": {},
   "source": [
    "\n",
    "    ---Example 7---\n",
    "\n",
    "* i = n\n",
    "* while i>2 :\n",
    "\n",
    "        i = i**25\n",
    "* if we do the same derivation as above, we get n ** 1/(25**k) = 2\n",
    "* if we solve the equation, we get log(log n) = k, but here the 1st log is base 25 and 2nd log base 2\n",
    "        \n",
    "        TIP: 1 st log base is always the number inside the loop and 2nd log base is always the number in the condition.\n",
    "* **Hence the order of magnitude for this algorithm is O(log(log n))**"
   ]
  }
 ],
 "metadata": {
  "kernelspec": {
   "display_name": "Python 3",
   "language": "python",
   "name": "python3"
  },
  "language_info": {
   "codemirror_mode": {
    "name": "ipython",
    "version": 3
   },
   "file_extension": ".py",
   "mimetype": "text/x-python",
   "name": "python",
   "nbconvert_exporter": "python",
   "pygments_lexer": "ipython3",
   "version": "3.10.6"
  },
  "orig_nbformat": 4
 },
 "nbformat": 4,
 "nbformat_minor": 2
}
