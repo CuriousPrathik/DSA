{
 "cells": [
  {
   "attachments": {},
   "cell_type": "markdown",
   "metadata": {},
   "source": [
    "# Apriory Analysis\n",
    "\n",
    "* It is the order of magnitude of a statement i.e no. of times any statement is executing."
   ]
  },
  {
   "cell_type": "markdown",
   "metadata": {},
   "source": [
    "\n",
    "    ---Time & Space Complexity---\n",
    "    \n",
    "**Time complexity** \n",
    "\n",
    "* It refers to how the running time of an algorithm increases as the input size increases. \n",
    "\n",
    "* It helps in understanding how efficient an algorithm is in terms of time.\n",
    "\n",
    "**Space complexity**\n",
    "\n",
    "* It refers to how the memory usage of an algorithm increases with the input size. \n",
    "\n",
    "* It helps in understanding how efficient an algorithm is in terms of space."
   ]
  },
  {
   "attachments": {},
   "cell_type": "markdown",
   "metadata": {},
   "source": [
    "    \n",
    "    ---Example 1---\n",
    "\n",
    "* x = y + z -> this will only run once.\n",
    "\n",
    "* Hence the order of magnitude for this statement is O(1), we are calculating for Big O."
   ]
  },
  {
   "attachments": {},
   "cell_type": "markdown",
   "metadata": {},
   "source": [
    "    ---Example 2---\n",
    "\n",
    "* x = y + z -> this will run once\n",
    "\n",
    "* for i in range(0,n-1):\n",
    "    \n",
    "    x = y + z -> this will run 0 till n-1 i.e n times\n",
    "\n",
    "* Hence the order of magnitude for this algorithn is O(n+1), but n is very large so we will give approximate i.e O(n)"
   ]
  },
  {
   "attachments": {},
   "cell_type": "markdown",
   "metadata": {},
   "source": [
    "    ---Example 3---\n",
    "\n",
    "* x = y + z -> this will run once\n",
    "\n",
    "* for j in range(0,n-1): -> this will run n times\n",
    "    \n",
    "        x = y + z \n",
    "\n",
    "* for i in range(0,n-1): -> this will run n times\n",
    "\n",
    "        for j in range(0,n-1): -> this will run 0 till n-1 i.e n times\n",
    "    \n",
    "            x = y + z \n",
    "\n",
    "* Hence the order of magnitude for this algorithn is O(1+n+n ** 2) but n is very large so we will give approximate and largest i.e O(n**2)"
   ]
  }
 ],
 "metadata": {
  "kernelspec": {
   "display_name": "Python 3",
   "language": "python",
   "name": "python3"
  },
  "language_info": {
   "name": "python",
   "version": "3.10.6"
  },
  "orig_nbformat": 4
 },
 "nbformat": 4,
 "nbformat_minor": 2
}
