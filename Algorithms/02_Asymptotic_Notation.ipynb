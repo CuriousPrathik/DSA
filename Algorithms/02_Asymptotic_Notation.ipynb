{
 "cells": [
  {
   "attachments": {},
   "cell_type": "markdown",
   "metadata": {},
   "source": [
    "# Asymptotic Notation\n",
    "\n",
    "**Asymptotic notation is a mathematical notation used to analyze and compare the efficiency of algorithms.**"
   ]
  },
  {
   "attachments": {},
   "cell_type": "markdown",
   "metadata": {},
   "source": [
    "* An Algorithm has three scenarios/Asymptotic Notations\n",
    "\n",
    "**Worst Case Scenario**\n",
    "    \n",
    "    * Big O notation (O): It provides an upper bound on the worst-case scenario of an algorithm's time or space complexity.\n",
    "**Best Case Scenario**\n",
    "    \n",
    "    * Omega notation (Ω): It provides a lower bound on the best-case scenario of an algorithm's time or space complexity. \n",
    "**Average Case Scenario**\n",
    "\n",
    "    * Theta notation (Θ): It provides both upper and lower bounds on the time or space complexity.\n",
    "\n",
    "**While calculating T&S C, if scenario not mentioned always calculate for worst case scenario**"
   ]
  },
  {
   "attachments": {},
   "cell_type": "markdown",
   "metadata": {},
   "source": [
    "\n",
    "    ---Time & Space Complexity---\n",
    "    \n",
    "**Time complexity** \n",
    "\n",
    "* It refers to how the running time of an algorithm increases as the input size increases. \n",
    "\n",
    "* It helps in understanding how efficient an algorithm is in terms of time.\n",
    "\n",
    "**Space complexity**\n",
    "\n",
    "* It refers to how the memory usage of an algorithm increases with the input size. \n",
    "\n",
    "* It helps in understanding how efficient an algorithm is in terms of space."
   ]
  },
  {
   "attachments": {},
   "cell_type": "markdown",
   "metadata": {},
   "source": [
    "    ---Mathematics of Big O notation---\n",
    "\n",
    "* f(n) and g(n) are functions that represent the running time of two algorithms.\n",
    "\n",
    "* c is a positive constant\n",
    "    \n",
    "    # f(n) = O(g(n))\n",
    "    # f(n) <= c * g(n)"
   ]
  }
 ],
 "metadata": {
  "language_info": {
   "name": "python"
  },
  "orig_nbformat": 4
 },
 "nbformat": 4,
 "nbformat_minor": 2
}
