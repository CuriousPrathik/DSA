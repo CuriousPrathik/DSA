{
 "cells": [
  {
   "cell_type": "markdown",
   "metadata": {},
   "source": [
    "1D Array = One-dimensional Array: A simple list or array where elements are arranged in a linear fashion.\n",
    "\n",
    "Elements in a 1D array are accessed using 1 index **A[ i ]**\n"
   ]
  },
  {
   "cell_type": "markdown",
   "metadata": {},
   "source": [
    "Find Memory address of an element in the 1D array\n",
    "\n",
    "arr(i) = Base address + (i - lower bound of index) * size of element\n",
    "\n",
    "**lower bound is by default 0, in interviews they might change**\n",
    "\n",
    "**Size of Int = 4 bytes**"
   ]
  },
  {
   "cell_type": "markdown",
   "metadata": {},
   "source": [
    "    Ex 1\n",
    "\n",
    "arr = [1,2,4,5,22,44,25,8,9]\n",
    "\n",
    "suppose memory address of element 1 is 1000.\n",
    "\n",
    "now what is MA of element 22(index = 4)\n",
    "\n",
    "arr(4) = 1000 + (4-0) * 4 = 1016"
   ]
  },
  {
   "cell_type": "markdown",
   "metadata": {},
   "source": [
    "2D Array = Two-dimensional Array: Also known as a matrix, this is an array with two indices, typically representing rows and columns."
   ]
  },
  {
   "cell_type": "markdown",
   "metadata": {},
   "source": [
    "Elements in a 2D array are accessed using two indices.\n",
    "\n",
    "Accessing the element in the i-th row and j-th column of a 2D array A is denoted as **A[ i ][ j ]**."
   ]
  },
  {
   "cell_type": "markdown",
   "metadata": {},
   "source": [
    "Row-major and column-major are two ways of representing the storage order of 2D/multi D arrays, particularly in memory. \n",
    "\n",
    "**Row-Major Order:**\n",
    "In row-major order, elements of a multi-dimensional array are stored row by row in 1D array. \n",
    "\n",
    "That is, the elements of the first row are stored first, followed by the elements of the second row, and so on.\n",
    "\n",
    "For a 2D array:\n",
    "```\n",
    "2  7  1\n",
    "4  0 -3\n",
    "-1  5  2\n",
    "```\n",
    "In row-major order, the memory layout would be:\n",
    "```\n",
    "2  7  1  4  0 -3  -1  5  2\n",
    "```\n",
    "\n",
    "**Column-Major Order:**\n",
    "In column-major order, elements of a multi-dimensional array are stored column by column in 1D array. \n",
    "\n",
    "That is, the elements of the first column are stored first, followed by the elements of the second column, and so on.\n",
    "\n",
    "For the same 2D array:\n",
    "```\n",
    "2  7  1\n",
    "4  0 -3\n",
    "-1  5  2\n",
    "```\n",
    "In column-major order, the memory layout would be:\n",
    "```\n",
    "2  4 -1  7  0  5  1 -3  2\n",
    "```\n",
    "\n",
    "The choice between row-major and column-major order can impact memory access efficiency. \n",
    "\n",
    "For example, when iterating through a row, accessing elements in row-major order is more cache-friendly because the consecutive elements are stored close to each other in memory. \n",
    "\n",
    "Similarly, accessing elements in a column is more cache-friendly in column-major order."
   ]
  },
  {
   "cell_type": "markdown",
   "metadata": {},
   "source": [
    "Find the memory location of an element in 2D array\n",
    "\n",
    "for Row major order\n",
    "\n",
    "Memory_Location = base_address + (i * columns + j) * element_size\n",
    "\n",
    "arr([i][j]) = base address + [ (i-lower bound for row) * no.of col + (j-lower bound for col) ] * size of element\n",
    "\n",
    "\n",
    "for Column-Major Order:\n",
    "\n",
    "Memory_Location = base_address + (j * rows + i) * element_size\n",
    "\n",
    "arr([i][j]) = base adress + [ (j-lb for col) * no.of rows + (i-ln for rows) ] * size of element "
   ]
  }
 ],
 "metadata": {
  "language_info": {
   "name": "python"
  },
  "orig_nbformat": 4
 },
 "nbformat": 4,
 "nbformat_minor": 2
}
