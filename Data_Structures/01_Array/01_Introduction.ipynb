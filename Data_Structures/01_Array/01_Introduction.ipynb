{
 "cells": [
  {
   "cell_type": "markdown",
   "metadata": {},
   "source": [
    "# ARRAY\n",
    "\n",
    "**It is a Linear Data Structure**"
   ]
  },
  {
   "cell_type": "markdown",
   "metadata": {},
   "source": [
    "In Python Array is of two types\n",
    "\n",
    "* **Static Array** - (Array module)\n",
    "\n",
    "* **Dynamic Array** - (List)\n",
    "\n",
    "* Defined using **[ ]**"
   ]
  },
  {
   "cell_type": "markdown",
   "metadata": {},
   "source": [
    "**Properties of both Arrays**\n",
    "\n",
    "\n",
    "* Indexing: Array elements are accessed using their indices, and access is very fast (O(1)) due to contiguous memory allocation.\n",
    "\n",
    "* Random Access: Access any element in constant time using their indices.\n",
    "\n",
    "* Memory Contiguity: Elements of the array or list are stored in adjacent memory locations without any gaps between them."
   ]
  },
  {
   "cell_type": "markdown",
   "metadata": {},
   "source": [
    "**Static vs Dynamic Array**\n",
    "\n",
    "\n",
    "| Property                | Dynamic Arrays (Lists)   | Static Arrays (`array`) |\n",
    "|-------------------------|--------------------------|-------------------------|\n",
    "| Size                    | Dynamic (Resizable S*2)  | Fixed                   |\n",
    "| Data Types              | Heterogeneous            | Uniform                 |\n",
    "| Memory Allocation       | Automatic                | Pre-determined          |\n",
    "| Indexing                | Efficient (O(1))         | Efficient (O(1))        |\n",
    "| Resizing                | Automatic                | Not Applicable          |\n",
    "| Memory Efficiency       | Moderate                 | Higher (Fixed Size)     |\n",
    "| Flexibility             | High                     | Limited                 |\n",
    "| Element Access          | Fast                     | Fast                    |\n",
    "-\n",
    "--------\n",
    "-\n",
    "| When to use                                           | When to Use                                          |\n",
    "|-------------------------------------------------------|------------------------------------------------------|\n",
    "| **Dynamic Arrays (Lists)**                            | **Static Arrays (`array` module)**                  |\n",
    "|                                                       |                                                      |\n",
    "| - Collection with varying data types.                | - Fixed-size collection with uniform data types.    |\n",
    "|                                                       |                                                      |\n",
    "| - Dynamic sizing and versatile operations.           | - Dynamic resizing of the collection.               |\n",
    "|                                                       |                                                      |\n",
    "| - Building lists that can grow/shrink.               | - Memory-efficient solution needed.                |\n",
    "|                                                       |                                                      |\n",
    "| - Versatile operations: append, insert, delete.      | - Specialized data types or strict type safety.     |\n"
   ]
  }
 ],
 "metadata": {
  "language_info": {
   "name": "python"
  },
  "orig_nbformat": 4
 },
 "nbformat": 4,
 "nbformat_minor": 2
}
